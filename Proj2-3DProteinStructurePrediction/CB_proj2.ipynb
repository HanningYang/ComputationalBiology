{
 "cells": [
  {
   "cell_type": "code",
   "execution_count": 1,
   "id": "1187e447",
   "metadata": {},
   "outputs": [],
   "source": [
    "from prody import *\n",
    "from pylab import *\n",
    "import numpy as np\n",
    "from scipy import stats\n",
    "import pandas as pd\n",
    "from Bio import AlignIO\n",
    "from Bio import SeqIO\n",
    "from Bio import Seq\n",
    "from random import randint\n",
    "import sklearn\n",
    "from sklearn import metrics\n",
    "from sklearn.metrics.cluster import normalized_mutual_info_score as mi\n",
    "import os"
   ]
  },
  {
   "cell_type": "markdown",
   "id": "67c4cb5c",
   "metadata": {},
   "source": [
    "## Read full MSA"
   ]
  },
  {
   "cell_type": "code",
   "execution_count": 2,
   "id": "a0a41e03",
   "metadata": {},
   "outputs": [],
   "source": [
    "msa = AlignIO.read(\"/Users/yanghanning/Desktop/ComputationalBiology/PF00440_full.fasta\", \"fasta\")\n",
    "nrow, ncol = shape(msa)"
   ]
  },
  {
   "cell_type": "markdown",
   "id": "ed2e9ad3",
   "metadata": {},
   "source": [
    "## Randomly select 2000 index"
   ]
  },
  {
   "cell_type": "code",
   "execution_count": 14,
   "id": "eab36adb",
   "metadata": {},
   "outputs": [],
   "source": [
    "index = []\n",
    "n = 2000\n",
    "\n",
    "for i in range(n):\n",
    "    index.append(randint(0, nrow))"
   ]
  },
  {
   "cell_type": "code",
   "execution_count": 15,
   "id": "d8bb0d56",
   "metadata": {},
   "outputs": [
    {
     "data": {
      "text/plain": [
       "2000"
      ]
     },
     "execution_count": 15,
     "metadata": {},
     "output_type": "execute_result"
    }
   ],
   "source": [
    "index = np.array(index)\n",
    "index.shape[0]"
   ]
  },
  {
   "cell_type": "code",
   "execution_count": 16,
   "id": "8453befc",
   "metadata": {},
   "outputs": [
    {
     "data": {
      "text/plain": [
       "92"
      ]
     },
     "execution_count": 16,
     "metadata": {},
     "output_type": "execute_result"
    }
   ],
   "source": [
    "sum = 0\n",
    "for i in range(n):\n",
    "    for j in range(n):\n",
    "        if (index[i] == index[j]) and (i != j):\n",
    "            sum += 1\n",
    "        else:\n",
    "            sum += 0\n",
    "            \n",
    "sum"
   ]
  },
  {
   "cell_type": "markdown",
   "id": "ca9300f1",
   "metadata": {},
   "source": [
    "## Generate a 2000 subsequence"
   ]
  },
  {
   "cell_type": "code",
   "execution_count": 4,
   "id": "c3842574",
   "metadata": {},
   "outputs": [],
   "source": [
    "with open(\"/Users/yanghanning/Desktop/ComputationalBiology/PF00440_random.fasta\", \"w\") as o:\n",
    "    for i in index:\n",
    "        SeqIO.write(msa[i], o, \"fasta\")"
   ]
  },
  {
   "cell_type": "markdown",
   "id": "2536f560",
   "metadata": {},
   "source": [
    "## Ungap the MSA"
   ]
  },
  {
   "cell_type": "code",
   "execution_count": null,
   "id": "7b68da51",
   "metadata": {},
   "outputs": [],
   "source": [
    "with open(\"/Users/yanghanning/Desktop/ComputationalBiology/PF00440_random_ungap.fasta\", \"w\") as o:\n",
    "    for record in AlignIO.read(\"/Users/yanghanning/Desktop/ComputationalBiology/PF00440_random.fasta\", \"fasta\"):\n",
    "        record.seq = record.seq.ungap(\"-\")\n",
    "        SeqIO.write(record, o, \"fasta\")"
   ]
  },
  {
   "cell_type": "markdown",
   "id": "370fb737",
   "metadata": {},
   "source": [
    "## Pad MSA so that they have same length"
   ]
  },
  {
   "cell_type": "code",
   "execution_count": null,
   "id": "7a44e879",
   "metadata": {},
   "outputs": [],
   "source": [
    "input_file = '/Users/yanghanning/Desktop/ComputationalBiology/PF00440_random_ungap.fasta'\n",
    "records = SeqIO.parse(input_file, 'fasta')\n",
    "records = list(records) # make a copy, otherwise our generator\n",
    "                        # is exhausted after calculating maxlen\n",
    "maxlen = max(len(record.seq) for record in records)\n",
    "\n",
    "# pad sequences so that they all have the same length\n",
    "for record in records:\n",
    "    if len(record.seq) != maxlen:\n",
    "        sequence = str(record.seq).ljust(maxlen, '.')\n",
    "        record.seq = Seq.Seq(sequence)\n",
    "assert all(len(record.seq) == maxlen for record in records)\n",
    "\n",
    "# write to temporary file and do alignment\n",
    "output_file = '{}_padded.fasta'.format(os.path.splitext(input_file)[0])\n",
    "with open(output_file, 'w') as f:\n",
    "    SeqIO.write(records, f, 'fasta')\n",
    "msa = AlignIO.read(output_file, \"fasta\")\n",
    "\n",
    "nrow, ncol = shape(msa)"
   ]
  },
  {
   "cell_type": "code",
   "execution_count": 35,
   "id": "d914c9a4",
   "metadata": {},
   "outputs": [],
   "source": [
    "input_file = '/Users/yanghanning/Desktop/ComputationalBiology/PF00440_random_ungap_padded.fasta'\n",
    "records = SeqIO.parse(input_file, 'fasta')\n",
    "records = list(records)\n",
    "records = np.array(records)\n",
    "# print(records[1,1])\n",
    "#for record in records:\n",
    "    #print(record.seq)"
   ]
  },
  {
   "cell_type": "markdown",
   "id": "92b53d00",
   "metadata": {},
   "source": [
    "## Define mutual information function"
   ]
  },
  {
   "cell_type": "code",
   "execution_count": 36,
   "id": "715168e0",
   "metadata": {},
   "outputs": [],
   "source": [
    "def mutual_Info(X, Y):\n",
    "    # count frequency of each element in X\n",
    "    d_x = dict()  # dictionary of X\n",
    "    for x in X:\n",
    "        if x in d_x:\n",
    "            d_x[x] += 1\n",
    "        else:\n",
    "            d_x[x] = 1\n",
    "    # calculate probability of each element in X\n",
    "    p_x = dict()\n",
    "    for x in d_x.keys():\n",
    "        p_x[x] = d_x[x] / X.size\n",
    "\n",
    "    # count frequency of each element in Y\n",
    "    d_y = dict()  # dictionary of Y\n",
    "    for y in Y:\n",
    "        if y in d_y:\n",
    "            d_y[y] += 1\n",
    "        else:\n",
    "            d_y[y] = 1\n",
    "    # calculate probability of each element in Y\n",
    "    p_y = dict()\n",
    "    for y in d_y.keys():\n",
    "        p_y[y] = d_y[y] / Y.size\n",
    "\n",
    "    # count the number of occurence of each combination (x,y)\n",
    "    d_xy = dict()  # dictionary of each (x,y)\n",
    "    for i in range(X.size):\n",
    "        if (X[i], Y[i]) in d_xy:\n",
    "            d_xy[X[i], Y[i]] += 1\n",
    "        else:\n",
    "            d_xy[X[i], Y[i]] = 1\n",
    "    # calculate probability of each (x,y)\n",
    "    p_xy = dict()\n",
    "    for xy in d_xy.keys():\n",
    "        p_xy[xy] = d_xy[xy] / X.size\n",
    "\n",
    "    # initialize MI value\n",
    "    mi = 0\n",
    "    for xy in p_xy.keys():\n",
    "        mi += p_xy[xy] * np.log(p_xy[xy] / (p_x[xy[0]] * p_y[xy[1]]))\n",
    "    \n",
    "    return mi"
   ]
  },
  {
   "cell_type": "code",
   "execution_count": 37,
   "id": "69c3b8ba",
   "metadata": {},
   "outputs": [
    {
     "data": {
      "text/plain": [
       "54"
      ]
     },
     "execution_count": 37,
     "metadata": {},
     "output_type": "execute_result"
    }
   ],
   "source": [
    "ncol = records.shape[1]\n",
    "ncol"
   ]
  },
  {
   "cell_type": "markdown",
   "id": "64de1c48",
   "metadata": {},
   "source": [
    "## Compute mutual information matrix"
   ]
  },
  {
   "cell_type": "code",
   "execution_count": 38,
   "id": "142b26d5",
   "metadata": {},
   "outputs": [
    {
     "name": "stdout",
     "output_type": "stream",
     "text": [
      "CPU times: user 7.23 s, sys: 63.6 ms, total: 7.3 s\n",
      "Wall time: 7.38 s\n"
     ]
    }
   ],
   "source": [
    "%%time\n",
    "\n",
    "mutual_info = np.zeros((ncol,ncol))\n",
    "for i in range(ncol):\n",
    "    mutual_info[i][i] = mutual_Info(records[:,i], records[:,i])\n",
    "    for j in range(i):\n",
    "        mutual_info[i][j] = mutual_Info(records[:,i], records[:,j])\n",
    "\n",
    "        \n",
    "for i in range(ncol):\n",
    "    for j in range(i,ncol):\n",
    "        mutual_info[i][j] = mutual_info[j][i]"
   ]
  },
  {
   "cell_type": "code",
   "execution_count": 39,
   "id": "073b25d2",
   "metadata": {},
   "outputs": [
    {
     "data": {
      "text/plain": [
       "array([[1.41437810e+00, 1.62105012e-01, 1.34518250e-01, ...,\n",
       "        9.71741349e-04, 9.71741349e-04, 9.71741349e-04],\n",
       "       [1.62105012e-01, 1.81472653e+00, 1.47232264e-01, ...,\n",
       "        2.34261452e-03, 2.34261452e-03, 2.34261452e-03],\n",
       "       [1.34518250e-01, 1.47232264e-01, 2.31800870e+00, ...,\n",
       "        2.05850408e-03, 2.05850408e-03, 2.05850408e-03],\n",
       "       ...,\n",
       "       [9.71741349e-04, 2.34261452e-03, 2.05850408e-03, ...,\n",
       "        8.60040229e-03, 8.60040229e-03, 8.60040229e-03],\n",
       "       [9.71741349e-04, 2.34261452e-03, 2.05850408e-03, ...,\n",
       "        8.60040229e-03, 8.60040229e-03, 8.60040229e-03],\n",
       "       [9.71741349e-04, 2.34261452e-03, 2.05850408e-03, ...,\n",
       "        8.60040229e-03, 8.60040229e-03, 8.60040229e-03]])"
      ]
     },
     "execution_count": 39,
     "metadata": {},
     "output_type": "execute_result"
    }
   ],
   "source": [
    "mutual_info"
   ]
  },
  {
   "cell_type": "markdown",
   "id": "0c9709dd",
   "metadata": {},
   "source": [
    "## Display mutual information"
   ]
  },
  {
   "cell_type": "code",
   "execution_count": 40,
   "id": "eb28d185",
   "metadata": {},
   "outputs": [
    {
     "data": {
      "text/plain": [
       "(<matplotlib.image.AxesImage at 0x7fdc354cf520>,\n",
       " <matplotlib.colorbar.Colorbar at 0x7fdc1be81490>)"
      ]
     },
     "execution_count": 40,
     "metadata": {},
     "output_type": "execute_result"
    },
    {
     "data": {
      "image/png": "[encoded data removed]",
      "text/plain": [
       "<Figure size 432x288 with 2 Axes>"
      ]
     },
     "metadata": {
      "needs_background": "light"
     },
     "output_type": "display_data"
    }
   ],
   "source": [
    "showMutinfoMatrix(mutual_info)"
   ]
  },
  {
   "cell_type": "code",
   "execution_count": 42,
   "id": "aded960f",
   "metadata": {},
   "outputs": [
    {
     "data": {
      "text/plain": [
       "array([[1.4143781 ],\n",
       "       [0.16210501],\n",
       "       [0.13451825],\n",
       "       ...,\n",
       "       [0.0086004 ],\n",
       "       [0.0086004 ],\n",
       "       [0.0086004 ]])"
      ]
     },
     "execution_count": 42,
     "metadata": {},
     "output_type": "execute_result"
    }
   ],
   "source": [
    "re_mutual_info = mutual_info.reshape(ncol*ncol,1)\n",
    "re_mutual_info"
   ]
  },
  {
   "cell_type": "markdown",
   "id": "126c27c4",
   "metadata": {},
   "source": [
    "## Save mutual infomation matrix as a (147$*$147)$*$1 matrix"
   ]
  },
  {
   "cell_type": "code",
   "execution_count": null,
   "id": "fd47194c",
   "metadata": {},
   "outputs": [],
   "source": [
    "writeArray('/Users/yanghanning/Desktop/ComputationalBiology/re_mutual_info.txt', re_mutual_info)"
   ]
  },
  {
   "cell_type": "markdown",
   "id": "8ac7845d",
   "metadata": {},
   "source": [
    "## Define normalized mutual information function"
   ]
  },
  {
   "cell_type": "code",
   "execution_count": 43,
   "id": "261f9743",
   "metadata": {},
   "outputs": [],
   "source": [
    "def MI(A, B):\n",
    "    total = len(A)\n",
    "    A_ids = set(A)\n",
    "    B_ids = set(B)\n",
    "    # calculate MI\n",
    "    MI = 0\n",
    "    eps = 1.4e-45\n",
    "    for idA in A_ids:\n",
    "        for idB in B_ids:\n",
    "            idAOccur = np.where(A==idA)    \n",
    "            idBOccur = np.where(B==idB)\n",
    "            idABOccur = np.intersect1d(idAOccur,idBOccur)   # Find the intersection of two arrays.\n",
    "            px = 1.0*len(idAOccur[0])/total\n",
    "            py = 1.0*len(idBOccur[0])/total\n",
    "            pxy = 1.0*len(idABOccur)/total\n",
    "            MI = MI + pxy*math.log(pxy/(px*py)+eps,2)\n",
    "    # normalize MI\n",
    "    Hx = 0\n",
    "    for idA in A_ids:\n",
    "        idAOccurCount = 1.0*len(np.where(A==idA)[0])\n",
    "        Hx = Hx - (idAOccurCount/total)*math.log(idAOccurCount/total+eps,2)\n",
    "    \n",
    "    Hy = 0\n",
    "    for idB in B_ids:\n",
    "        idBOccurCount = 1.0*len(np.where(B==idB)[0])\n",
    "        Hy = Hy - (idBOccurCount/total)*math.log(idBOccurCount/total+eps,2)\n",
    "    \n",
    "    if (Hx == 0) and (Hy == 0):\n",
    "        NMI = 1.0\n",
    "    else:\n",
    "        NMI = 2.0*float(MI)/float(Hx+Hy)\n",
    "        \n",
    "    return NMI\n",
    "    \n",
    "    "
   ]
  },
  {
   "cell_type": "markdown",
   "id": "04badaf4",
   "metadata": {},
   "source": [
    "## Compute normalized mutual information matrix"
   ]
  },
  {
   "cell_type": "code",
   "execution_count": 44,
   "id": "45f57847",
   "metadata": {},
   "outputs": [
    {
     "name": "stdout",
     "output_type": "stream",
     "text": [
      "CPU times: user 2.95 s, sys: 19.8 ms, total: 2.97 s\n",
      "Wall time: 2.99 s\n"
     ]
    }
   ],
   "source": [
    "%%time\n",
    "\n",
    "normal_mutuInfo = np.zeros((ncol,ncol))\n",
    "for i in range(ncol):\n",
    "    normal_mutuInfo[i][i] = sklearn.metrics.normalized_mutual_info_score(records[:,i], records[:,i])\n",
    "    for j in range(i):\n",
    "        normal_mutuInfo[i][j] = sklearn.metrics.normalized_mutual_info_score(records[:,i], records[:,j])\n",
    "\n",
    "        \n",
    "for i in range(ncol):\n",
    "    for j in range(i,ncol):\n",
    "        normal_mutuInfo[i][j] = normal_mutuInfo[j][i]"
   ]
  },
  {
   "cell_type": "code",
   "execution_count": 45,
   "id": "d15e4bf2",
   "metadata": {},
   "outputs": [
    {
     "data": {
      "text/plain": [
       "array([[1.        , 0.10040245, 0.07208162, ..., 0.00136579, 0.00136579,\n",
       "        0.00136579],\n",
       "       [0.10040245, 1.        , 0.07125173, ..., 0.0025696 , 0.0025696 ,\n",
       "        0.0025696 ],\n",
       "       [0.07208162, 0.07125173, 1.        , ..., 0.00176953, 0.00176953,\n",
       "        0.00176953],\n",
       "       ...,\n",
       "       [0.00136579, 0.0025696 , 0.00176953, ..., 1.        , 1.        ,\n",
       "        1.        ],\n",
       "       [0.00136579, 0.0025696 , 0.00176953, ..., 1.        , 1.        ,\n",
       "        1.        ],\n",
       "       [0.00136579, 0.0025696 , 0.00176953, ..., 1.        , 1.        ,\n",
       "        1.        ]])"
      ]
     },
     "execution_count": 45,
     "metadata": {},
     "output_type": "execute_result"
    }
   ],
   "source": [
    "normal_mutuInfo"
   ]
  },
  {
   "cell_type": "markdown",
   "id": "d4b673ae",
   "metadata": {},
   "source": [
    "## Display normalized mutual information"
   ]
  },
  {
   "cell_type": "code",
   "execution_count": 46,
   "id": "37a3afc2",
   "metadata": {},
   "outputs": [
    {
     "data": {
      "text/plain": [
       "(<matplotlib.image.AxesImage at 0x7fdc1c20ceb0>,\n",
       " <matplotlib.colorbar.Colorbar at 0x7fdc1be4d7c0>)"
      ]
     },
     "execution_count": 46,
     "metadata": {},
     "output_type": "execute_result"
    },
    {
     "data": {
      "image/png": "[encoded data removed]",
      "text/plain": [
       "<Figure size 432x288 with 2 Axes>"
      ]
     },
     "metadata": {
      "needs_background": "light"
     },
     "output_type": "display_data"
    }
   ],
   "source": [
    "showMutinfoMatrix(normal_mutuInfo)"
   ]
  },
  {
   "cell_type": "code",
   "execution_count": 47,
   "id": "d552e074",
   "metadata": {},
   "outputs": [
    {
     "data": {
      "text/plain": [
       "array([[1.        ],\n",
       "       [0.10040245],\n",
       "       [0.07208162],\n",
       "       ...,\n",
       "       [1.        ],\n",
       "       [1.        ],\n",
       "       [1.        ]])"
      ]
     },
     "execution_count": 47,
     "metadata": {},
     "output_type": "execute_result"
    }
   ],
   "source": [
    "re_normal_mutuInfo = normal_mutuInfo.reshape(ncol*ncol,1)\n",
    "re_normal_mutuInfo"
   ]
  },
  {
   "cell_type": "markdown",
   "id": "cb3dfca0",
   "metadata": {},
   "source": [
    "## Save normalized mutual infomation matrix as a (147$*$147)$*$1 matrix"
   ]
  },
  {
   "cell_type": "code",
   "execution_count": null,
   "id": "4769f40a",
   "metadata": {},
   "outputs": [],
   "source": [
    "writeArray('/Users/yanghanning/Desktop/ComputationalBiology/re_normal_mutuInfo.txt', re_normal_mutuInfo)"
   ]
  },
  {
   "cell_type": "markdown",
   "id": "e6777adf",
   "metadata": {},
   "source": [
    "## Define a threshold to creat contact map"
   ]
  },
  {
   "cell_type": "code",
   "execution_count": 49,
   "id": "3c15d633",
   "metadata": {},
   "outputs": [],
   "source": [
    "thresh = 0.05\n",
    "contacts = np.zeros((ncol,ncol))\n",
    "for i in range(ncol):\n",
    "    for j in range(ncol):\n",
    "        if normal_mutuInfo[i,j] >= thresh:\n",
    "            contacts[i,j] = 1\n",
    "        else:\n",
    "            contacts[i,j] = 0"
   ]
  },
  {
   "cell_type": "markdown",
   "id": "cd8a3986",
   "metadata": {},
   "source": [
    "## Sum the number of 1s in contact map"
   ]
  },
  {
   "cell_type": "code",
   "execution_count": 50,
   "id": "73418a07",
   "metadata": {},
   "outputs": [
    {
     "data": {
      "text/plain": [
       "2306.0"
      ]
     },
     "execution_count": 50,
     "metadata": {},
     "output_type": "execute_result"
    }
   ],
   "source": [
    "contacts\n",
    "re_contacts = contacts.reshape(ncol*ncol,1)\n",
    "\n",
    "sum(re_contacts)"
   ]
  },
  {
   "cell_type": "markdown",
   "id": "74b44851",
   "metadata": {},
   "source": [
    "## Save contact map as a (147$*$147)$*$1 matrix"
   ]
  },
  {
   "cell_type": "code",
   "execution_count": 51,
   "id": "b498ba8e",
   "metadata": {},
   "outputs": [
    {
     "data": {
      "text/plain": [
       "'/Users/yanghanning/Desktop/ComputationalBiology/gap0.05.txt'"
      ]
     },
     "execution_count": 51,
     "metadata": {},
     "output_type": "execute_result"
    }
   ],
   "source": [
    "writeArray('/Users/yanghanning/Desktop/ComputationalBiology/gap0.05.txt',re_contacts)"
   ]
  }
 ],
 "metadata": {
  "kernelspec": {
   "display_name": "Python 3",
   "language": "python",
   "name": "python3"
  },
  "language_info": {
   "codemirror_mode": {
    "name": "ipython",
    "version": 3
   },
   "file_extension": ".py",
   "mimetype": "text/x-python",
   "name": "python",
   "nbconvert_exporter": "python",
   "pygments_lexer": "ipython3",
   "version": "3.8.8"
  }
 },
 "nbformat": 4,
 "nbformat_minor": 5
}
